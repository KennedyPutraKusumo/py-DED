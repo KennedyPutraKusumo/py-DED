{
 "cells": [
  {
   "cell_type": "markdown",
   "metadata": {
    "colab_type": "text",
    "id": "view-in-github"
   },
   "source": [
    "<a href=\"https://colab.research.google.com/github/KennedyPutraKusumo/pydex/blob/master/examples/pydex_quickstart.ipynb\" target=\"_parent\"><img src=\"https://colab.research.google.com/assets/colab-badge.svg\" alt=\"Open In Colab\"/></a>"
   ]
  },
  {
   "cell_type": "markdown",
   "metadata": {
    "colab_type": "text",
    "id": "yO7bwEgnngLl"
   },
   "source": [
    "# Problem Setting\n",
    "Consider a steady-state system with 2 control variables $x_1, x_2$ and 1 response $y$. An order 1 polynomial response surface model is to be developed for the system. You are tasked with designing the experiments for calibrating the model. Use principles of optimal experiment design to design maximally informative experiments. Since the exact number of experiments to be ran is not specified, it is desirable to design an approximate experiment design.\n",
    "\n",
    "$y = \\theta_0 + \\theta_1 x_1 + \\theta_2 x_2 + \\epsilon$,\n",
    "\n",
    "where $\\epsilon$ is the random error, normally distributed with zero mean and a given standard deviation $\\sigma$."
   ]
  },
  {
   "cell_type": "markdown",
   "metadata": {
    "colab_type": "text",
    "id": "HBpo-yYrh0SK"
   },
   "source": [
    "# Step 0: Installing Dependencies"
   ]
  },
  {
   "cell_type": "code",
   "execution_count": 1,
   "metadata": {
    "colab": {
     "base_uri": "https://localhost:8080/",
     "height": 204
    },
    "colab_type": "code",
    "id": "V4RuQ-5_TE2c",
    "outputId": "792c0715-5058-4c2c-ea0d-ec9f8542e80f"
   },
   "outputs": [
    {
     "name": "stdout",
     "output_type": "stream",
     "text": [
      "Requirement already satisfied: pydex==0.0.5 in c:\\programdata\\anaconda3\\lib\\site-packages (0.0.5)\n",
      "Requirement already satisfied: numdifftools in c:\\programdata\\anaconda3\\lib\\site-packages (0.9.39)\n",
      "Requirement already satisfied: pyomo in c:\\programdata\\anaconda3\\lib\\site-packages (5.7)\n",
      "Requirement already satisfied: six>=1.4 in c:\\programdata\\anaconda3\\lib\\site-packages (from pyomo) (1.15.0)\n",
      "Requirement already satisfied: PyUtilib>=6.0.0 in c:\\programdata\\anaconda3\\lib\\site-packages (from pyomo) (6.0.0)\n",
      "Requirement already satisfied: ply in c:\\programdata\\anaconda3\\lib\\site-packages (from pyomo) (3.11)\n",
      "Requirement already satisfied: appdirs in c:\\programdata\\anaconda3\\lib\\site-packages (from pyomo) (1.4.4)\n",
      "Requirement already satisfied: nose in c:\\programdata\\anaconda3\\lib\\site-packages (from PyUtilib>=6.0.0->pyomo) (1.3.7)\n",
      "Requirement already satisfied: casadi in c:\\programdata\\anaconda3\\lib\\site-packages (3.4.5)\n",
      "Requirement already satisfied: cvxpy in c:\\programdata\\anaconda3\\lib\\site-packages (1.0.25)\n",
      "Requirement already satisfied: osqp>=0.4.1 in c:\\programdata\\anaconda3\\lib\\site-packages (from cvxpy) (0.6.1)\n",
      "Requirement already satisfied: ecos>=2 in c:\\programdata\\anaconda3\\lib\\site-packages (from cvxpy) (2.0.7.post1)\n",
      "Requirement already satisfied: scipy>=1.1.0 in c:\\programdata\\anaconda3\\lib\\site-packages (from cvxpy) (1.5.3)\n",
      "Requirement already satisfied: scs>=1.1.3 in c:\\programdata\\anaconda3\\lib\\site-packages (from cvxpy) (2.1.2)\n",
      "Requirement already satisfied: six in c:\\programdata\\anaconda3\\lib\\site-packages (from cvxpy) (1.15.0)\n",
      "Requirement already satisfied: multiprocess in c:\\programdata\\anaconda3\\lib\\site-packages (from cvxpy) (0.70.11.1)\n",
      "Requirement already satisfied: numpy>=1.15 in c:\\programdata\\anaconda3\\lib\\site-packages (from cvxpy) (1.19.4)\n",
      "Requirement already satisfied: future in c:\\programdata\\anaconda3\\lib\\site-packages (from osqp>=0.4.1->cvxpy) (0.18.2)\n",
      "Requirement already satisfied: dill>=0.3.3 in c:\\programdata\\anaconda3\\lib\\site-packages (from multiprocess->cvxpy) (0.3.3)\n",
      "Requirement already satisfied: scipy in c:\\programdata\\anaconda3\\lib\\site-packages (1.5.3)\n",
      "Requirement already satisfied: numpy>=1.14.5 in c:\\programdata\\anaconda3\\lib\\site-packages (from scipy) (1.19.4)\n",
      "Requirement already satisfied: matplotlib in c:\\programdata\\anaconda3\\lib\\site-packages (3.3.3)\n",
      "Requirement already satisfied: pyparsing!=2.0.4,!=2.1.2,!=2.1.6,>=2.0.3 in c:\\programdata\\anaconda3\\lib\\site-packages (from matplotlib) (2.4.7)\n",
      "Requirement already satisfied: cycler>=0.10 in c:\\programdata\\anaconda3\\lib\\site-packages (from matplotlib) (0.10.0)\n",
      "Requirement already satisfied: kiwisolver>=1.0.1 in c:\\programdata\\anaconda3\\lib\\site-packages (from matplotlib) (1.3.1)\n",
      "Requirement already satisfied: python-dateutil>=2.1 in c:\\programdata\\anaconda3\\lib\\site-packages (from matplotlib) (2.8.1)\n",
      "Requirement already satisfied: pillow>=6.2.0 in c:\\programdata\\anaconda3\\lib\\site-packages (from matplotlib) (8.0.1)\n",
      "Requirement already satisfied: numpy>=1.15 in c:\\programdata\\anaconda3\\lib\\site-packages (from matplotlib) (1.19.4)\n",
      "Requirement already satisfied: six in c:\\programdata\\anaconda3\\lib\\site-packages (from cycler>=0.10->matplotlib) (1.15.0)\n",
      "Requirement already satisfied: dill in c:\\programdata\\anaconda3\\lib\\site-packages (0.3.3)\n"
     ]
    },
    {
     "name": "stdout",
     "output_type": "stream",
     "text": [
      "Requirement already satisfied: numpy in c:\\programdata\\anaconda3\\lib\\site-packages (1.19.4)\n"
     ]
    }
   ],
   "source": [
    "!pip install pydex==0.0.5\n",
    "!pip install numdifftools==0.9.39\n",
    "!pip install pyomo==5.7\n",
    "!pip install casadi==3.4.5\n",
    "!pip install cvxpy==1.0.25\n",
    "!pip install scipy==1.5.3\n",
    "!pip install matplotlib==3.3.3\n",
    "!pip install dill=0.3.3\n",
    "!pip install numpy==1.19.4"
   ]
  },
  {
   "cell_type": "markdown",
   "metadata": {
    "colab_type": "text",
    "id": "RiJu0OLWoEYq"
   },
   "source": [
    "# Step 1: Import Packages"
   ]
  },
  {
   "cell_type": "code",
   "execution_count": 2,
   "metadata": {
    "colab": {},
    "colab_type": "code",
    "id": "DgoXeEL6ngLu"
   },
   "outputs": [],
   "source": [
    "from pydex.core.designer import Designer\n",
    "import numpy as np"
   ]
  },
  {
   "cell_type": "markdown",
   "metadata": {
    "colab_type": "text",
    "id": "RujnRvycoUvh"
   },
   "source": [
    "# Step 2: Specifying the Model\n",
    "Our system is a steady-state system with two experimental variables, and a single response. The model is specified as a Python function with a specific signature that needs to be followed strictly (order matters). The name of the function does not have to be \"simulate\" as is presented below. Because we have a steady-state system, our simulate function will have two input arguments, ti_controls, and model_parameters. The input ti_controls will be a 1D numpy array, containing the values of the two experimental variables that pydex will pass into the simulate function. The input model_parameters will also be a 1D numpy array, containing values of the model parameters. The simulate function must return a numpy array, containing a single element, representing the model's predicted response for the given ti_controls, and model_parameters."
   ]
  },
  {
   "cell_type": "code",
   "execution_count": 3,
   "metadata": {
    "colab": {},
    "colab_type": "code",
    "id": "bXTy5_9uoo0A"
   },
   "outputs": [],
   "source": [
    "def simulate(ti_controls, model_parameters):\n",
    "    return np.array([\n",
    "        # constant term\n",
    "        model_parameters[0] +\n",
    "        # linear term\n",
    "        model_parameters[1] * ti_controls[0]                    +\n",
    "        model_parameters[2] * ti_controls[1]\n",
    "    ])"
   ]
  },
  {
   "cell_type": "markdown",
   "metadata": {
    "colab_type": "text",
    "id": "Dbn5JaKmil3e"
   },
   "source": [
    "Below is an example of what the simulate function is expected to do. The example corresponds to running a simulation to predict the response $y$ when $x_1 = 1$, $x_2 = 2$, $\\theta_0 = 1$, $\\theta_1 = 2$, and $\\theta_2 = 3$."
   ]
  },
  {
   "cell_type": "code",
   "execution_count": 4,
   "metadata": {
    "colab": {
     "base_uri": "https://localhost:8080/",
     "height": 34
    },
    "colab_type": "code",
    "id": "jjrpUERzioVe",
    "outputId": "bb7f5d99-4dbf-4d2b-88f0-6302acfc08c2"
   },
   "outputs": [
    {
     "name": "stdout",
     "output_type": "stream",
     "text": [
      "[9]\n"
     ]
    }
   ],
   "source": [
    "y = simulate(\n",
    "    ti_controls=[1, 2],\n",
    "    model_parameters=[1, 2, 3],\n",
    ")\n",
    "print(y)"
   ]
  },
  {
   "cell_type": "markdown",
   "metadata": {
    "colab_type": "text",
    "id": "SZgMjvL6vjFk"
   },
   "source": [
    "# Step 3: Create a Designer, Pass in the Model\n",
    "To start solving the optimal experimental design problem, we create an instance of pydex's designer. Once instantiated, we will assign the simulate function we have just created to pydex."
   ]
  },
  {
   "cell_type": "code",
   "execution_count": 5,
   "metadata": {
    "colab": {},
    "colab_type": "code",
    "id": "uZ-Y7u72v8qi"
   },
   "outputs": [],
   "source": [
    "designer_1 = Designer()\n",
    "designer_1.simulate = simulate"
   ]
  },
  {
   "cell_type": "markdown",
   "metadata": {
    "colab_type": "text",
    "id": "JNltr-PhVYoG"
   },
   "source": [
    "To understand what is happening in a bit more detail. All created instances of pydex designers will come with pre-defined attributes and methods. One pre-defined method is the \"simulate\" method. This is meant to be overwritten. If this pre-defined method is not overwritten, pydex will raise a SyntaxError exception during initialization. This is a feature in pydex to remind you should you forget to specify the simulate function for your model."
   ]
  },
  {
   "cell_type": "markdown",
   "metadata": {
    "colab_type": "text",
    "id": "CnPJolrKw0mq"
   },
   "source": [
    "# Step 4: Specify Nominal Model Parameter Values\n",
    "The response surface model for this example is a linear model (with respect to its model parameters). This means that the optimal design for the model is independent of the model parameter values. But, pydex still requires nominal model parameter values to be passed to the designer. You can pick any value, and it will not affect the result. For this example, we choose a value of 1 for all three model parameters. Getting the dimension of the model parameters defined here to be consistent with the dimension required in the simulate function is important."
   ]
  },
  {
   "cell_type": "code",
   "execution_count": 6,
   "metadata": {
    "colab": {},
    "colab_type": "code",
    "id": "bYtBDTKZx6lH"
   },
   "outputs": [],
   "source": [
    "designer_1.model_parameters = np.ones(3)"
   ]
  },
  {
   "cell_type": "markdown",
   "metadata": {
    "colab_type": "text",
    "id": "FesQD0lGV-8A"
   },
   "source": [
    "The syntax is again similar with specifying the simulate function. When instantiated, a designer will come with a pre-defined attribute named \"model_parameters\" that needs to be overwritten. We overwrite this with a 1D numpy array with all elements equal to one."
   ]
  },
  {
   "cell_type": "markdown",
   "metadata": {
    "colab_type": "text",
    "id": "T3pTdhfNyTjl"
   },
   "source": [
    "# Step 5: Specify Experimental Candidates\n",
    "This step is specific to how pydex solves optimal experiment design problems. Before proceeding, it is important to note that it is customary in optimal experiment design to normalize the experimental controls so they take values between -1 and 1.\n",
    "\n",
    "For this example, since we have two experimental controls, we will need to generate a 2D numpy array with shapes $N_c \\times 2$; where $N_c$ is the total number of experimental candidates. For simplicity, we will pass in candidates from a 2D mesh-centered grid with 5 levels in each dimension. This leads to a total of $5^2$ number of experimental candidates. To generate the required 2D numpy array, we will use pydex's convenient shortcut method: \"enumerate_candidates\".\n",
    "\n"
   ]
  },
  {
   "cell_type": "code",
   "execution_count": 7,
   "metadata": {
    "colab": {},
    "colab_type": "code",
    "id": "d774l7xLz3my"
   },
   "outputs": [],
   "source": [
    "tic = designer_1.enumerate_candidates(\n",
    "    bounds=[\n",
    "        [-1, 1],\n",
    "        [-1, 1],\n",
    "    ],\n",
    "    levels=[\n",
    "        5,\n",
    "        5,\n",
    "    ],\n",
    ")  # tic stands for time-invariant control"
   ]
  },
  {
   "cell_type": "markdown",
   "metadata": {
    "colab_type": "text",
    "id": "XYkxGf4GcuUW"
   },
   "source": [
    "The syntax to the shortcut method requires us to pass in the bounds of the two-dimensional grid we are going to enumerate our candidates from. This bounds will be declared either as a 2d numpy array, or as shown above, as a list of 2-element lists. Additionally, we need to specify the number of levels for each dimension, passed in as a 1d numpy array or a list. The shortcut produces a 2D numpy array of size $25 \\times 2$."
   ]
  },
  {
   "cell_type": "code",
   "execution_count": 8,
   "metadata": {
    "colab": {
     "base_uri": "https://localhost:8080/",
     "height": 442
    },
    "colab_type": "code",
    "id": "4Gfu50x0dcqX",
    "outputId": "84020035-92d4-4b34-f00e-4166a6c65c09"
   },
   "outputs": [
    {
     "name": "stdout",
     "output_type": "stream",
     "text": [
      "[[-1. , -1. ],\n",
      " [-1. , -0.5],\n",
      " [-1. ,  0. ],\n",
      " [-1. ,  0.5],\n",
      " [-1. ,  1. ],\n",
      " [-0.5, -1. ],\n",
      " [-0.5, -0.5],\n",
      " [-0.5,  0. ],\n",
      " [-0.5,  0.5],\n",
      " [-0.5,  1. ],\n",
      " [ 0. , -1. ],\n",
      " [ 0. , -0.5],\n",
      " [ 0. ,  0. ],\n",
      " [ 0. ,  0.5],\n",
      " [ 0. ,  1. ],\n",
      " [ 0.5, -1. ],\n",
      " [ 0.5, -0.5],\n",
      " [ 0.5,  0. ],\n",
      " [ 0.5,  0.5],\n",
      " [ 0.5,  1. ],\n",
      " [ 1. , -1. ],\n",
      " [ 1. , -0.5],\n",
      " [ 1. ,  0. ],\n",
      " [ 1. ,  0.5],\n",
      " [ 1. ,  1. ]]\n"
     ]
    }
   ],
   "source": [
    "print(np.array2string(tic, separator=\", \"))"
   ]
  },
  {
   "cell_type": "markdown",
   "metadata": {
    "colab_type": "text",
    "id": "ytUITv5G0ALv"
   },
   "source": [
    "After generating the required tic array, we need to pass it on to pydex. Now, we overwrite the pre-defined attribute ti_controls_candidates."
   ]
  },
  {
   "cell_type": "code",
   "execution_count": 9,
   "metadata": {
    "colab": {},
    "colab_type": "code",
    "id": "Modi0kKq1O_K"
   },
   "outputs": [],
   "source": [
    "designer_1.ti_controls_candidates = tic"
   ]
  },
  {
   "cell_type": "markdown",
   "metadata": {
    "colab_type": "text",
    "id": "nfAH-JP-1Vm8"
   },
   "source": [
    "# Step 6: Initialize the Designer\n",
    "We have specified the model through the simulate function, and specified the experimental candidates through the overwriting the ti_controls_candidates attributes. We are ready to solve our experimental design problem.\n",
    "\n",
    "Before the designer can be used to conduct any activity, it needs to be initialized. During initialization, the designer is going to do two things. First, check if there are any syntax errors made so far. Second, run a single simulation (using the first experimental candidate) to determine the number of responses (as defined in the simulate function).\n",
    "\n",
    "During initialization, you will also have a choice to determine how verbal you want the designer to be as it conducts experiment design, or any other activity. This is done by setting the verbose value. Note: although you can assign any real values, verbose is recommended to be a positive integer. 0: silent, 1: overview, 2: detailed, 3: very detailed."
   ]
  },
  {
   "cell_type": "code",
   "execution_count": 10,
   "metadata": {
    "colab": {
     "base_uri": "https://localhost:8080/",
     "height": 188
    },
    "colab_type": "code",
    "id": "cxCR2z5x1yh_",
    "outputId": "28ee8fe1-0bbe-4920-bf21-6cdf466c2fac"
   },
   "outputs": [
    {
     "name": "stdout",
     "output_type": "stream",
     "text": [
      "====================================================================================================\n",
      "Initialization complete: designer ready.\n",
      "----------------------------------------------------------------------------------------------------\n",
      "Number of model parameters              : 3\n",
      "Number of candidates                    : 25\n",
      "Number of responses                     : 1\n",
      "Number of measured responses            : 1\n",
      "Number of time-invariant controls       : 2\n",
      "====================================================================================================\n"
     ]
    },
    {
     "data": {
      "text/plain": [
       "'ready'"
      ]
     },
     "execution_count": 10,
     "metadata": {},
     "output_type": "execute_result"
    }
   ],
   "source": [
    "designer_1.initialize(verbose=2)"
   ]
  },
  {
   "cell_type": "markdown",
   "metadata": {
    "colab_type": "text",
    "id": "OvoUj3nUeOsP"
   },
   "source": [
    "After initialization, pydex reports the generic problem statistics that we have passed in. This helps us check if everything was defined properly."
   ]
  },
  {
   "cell_type": "markdown",
   "metadata": {
    "colab_type": "text",
    "id": "1s46zD7u2wmx"
   },
   "source": [
    "# Step 7: Design the Optimal Experiment\n",
    "To design an experiment, we invoke the pre-defined method design_experiment. There is one required argument: criterion. Pydex comes with multiple pre-defined list of experimental design criteria. We will use a popular classical optimality criterion, the D-optimal criterion.\n",
    "\n",
    "In addition to the criterion, we pass in three optional arguments. In this demo, we will not have authorization to write new files. By default, pydex will attempt to write the log of the experimental design activity into a text file. To prevent an error to occur, we pass in the argument \"write=False\". An important component of solving the optimal experimental design problem is the numerical optimizer that pydex will use. Pydex currently interfaces with solvers via two packages: Python's scipy and cvxpy. Pydex defaults to Python's cvxpy package, and \"SCS\" optimizer. We pass in 'package=\"scipy\"' and 'optimizer=\"SLSQP\"' to use the SLSQP optimizer, available through Python's scipy library."
   ]
  },
  {
   "cell_type": "code",
   "execution_count": 11,
   "metadata": {
    "colab": {
     "base_uri": "https://localhost:8080/",
     "height": 510
    },
    "colab_type": "code",
    "id": "pKxd47Q12wcE",
    "outputId": "3de4a8d8-9e9c-4131-9d50-f946cfc17d0b"
   },
   "outputs": [
    {
     "name": "stdout",
     "output_type": "stream",
     "text": [
      "############################### Computing Optimal Experiment Design ################################\n",
      "Started on                              : 2021-02-24 09:51:17.799260\n",
      "Criterion                               : d_opt_criterion\n",
      "Pseudo-bayesian                         : False\n",
      "Dynamic                                 : False\n",
      "Time-invariant Controls                 : True\n",
      "Time-varying Controls                   : False\n",
      "Number of Candidates                    : 25\n",
      "---------------------------------------[Sensitivity Analysis]---------------------------------------\n",
      "[Candidate       3/25]: time elapsed            0.01 seconds.\n",
      "[Candidate       6/25]: time elapsed            0.02 seconds.\n",
      "[Candidate       9/25]: time elapsed            0.03 seconds.\n",
      "[Candidate      12/25]: time elapsed            0.03 seconds.\n",
      "[Candidate      15/25]: time elapsed            0.04 seconds.\n",
      "[Candidate      18/25]: time elapsed            0.05 seconds.\n",
      "[Candidate      21/25]: time elapsed            0.06 seconds.\n",
      "[Candidate      24/25]: time elapsed            0.06 seconds.\n",
      "[Candidate      25/25]: time elapsed            0.07 seconds.\n",
      "----------------------------------------------------------------------------------------------------\n",
      "Optimization terminated successfully    (Exit mode 0)\n",
      "            Current function value: -1.2967404927621546e-13\n",
      "            Iterations: 2\n",
      "            Function evaluations: 52\n",
      "            Gradient evaluations: 2\n",
      "---------------------------------[Optimization Complete in 0.02 s]----------------------------------\n",
      "Complete: \n",
      " ~ sensitivity analysis took 0.07 CPU seconds.\n",
      " ~ optimization with SLSQP via scipy took 0.02 CPU seconds.\n",
      "####################################################################################################\n"
     ]
    }
   ],
   "source": [
    "result = designer_1.design_experiment(\n",
    "    criterion=designer_1.d_opt_criterion,\n",
    "    write=False,\n",
    "    package=\"scipy\",\n",
    "    optimizer=\"SLSQP\",\n",
    ")"
   ]
  },
  {
   "cell_type": "markdown",
   "metadata": {
    "colab_type": "text",
    "id": "9LFl5d8ofDUO"
   },
   "source": [
    "Because we specified a verbosity of 2, the designer provides details of the activity, numerical optimizer, and the overall timings. As was reported, there are two main steps to solving the optimal experimental design problem. The first is the sensitivity analysis step. Pydex does this through numerical estimation using finite differences, coupled with Richardson extrapolation to increase accuracy. This took 0.09 seconds to complete. The second step is to solve an optimization problem, which the optimizer SLSQP took 0.05 CPU seconds to complete."
   ]
  },
  {
   "cell_type": "markdown",
   "metadata": {
    "colab_type": "text",
    "id": "OCoanbGZ268K"
   },
   "source": [
    "# Step 8: Visualize the Results\n",
    "Once we complete an experimental design problem, we need to visualize the results. Pydex comes with many built-in visualization methods. The main method to invoke is \"print_optimal_candidates\".\n"
   ]
  },
  {
   "cell_type": "code",
   "execution_count": 12,
   "metadata": {
    "colab": {
     "base_uri": "https://localhost:8080/",
     "height": 476
    },
    "colab_type": "code",
    "id": "PTOHYsp5246I",
    "outputId": "eb208057-976d-4f46-8b55-4c555f921fa4"
   },
   "outputs": [
    {
     "name": "stdout",
     "output_type": "stream",
     "text": [
      "\n",
      "######################################## Optimal Candidates ########################################\n",
      "Obtained on                             : 2021-02-24 09:51:17.894719\n",
      "Criterion                               : d_opt_criterion\n",
      "Criterion Value                         : -1.2967404927621546e-13\n",
      "Pseudo-bayesian                         : False\n",
      "CVaR Problem                            : False\n",
      "Dynamic                                 : False\n",
      "Time-invariant Controls                 : True\n",
      "Time-varying Controls                   : False\n",
      "Number of Candidates                    : 25\n",
      "Number of Optimal Candidates            : 4\n",
      "-------------------------------------------[Candidate 1]--------------------------------------------\n",
      "                             Recommended Effort: 25.00% of experiments                              \n",
      "Time-invariant Controls:\n",
      "[-1. -1.]\n",
      "-------------------------------------------[Candidate 5]--------------------------------------------\n",
      "                             Recommended Effort: 25.00% of experiments                              \n",
      "Time-invariant Controls:\n",
      "[-1.  1.]\n",
      "-------------------------------------------[Candidate 21]-------------------------------------------\n",
      "                             Recommended Effort: 25.00% of experiments                              \n",
      "Time-invariant Controls:\n",
      "[ 1. -1.]\n",
      "-------------------------------------------[Candidate 25]-------------------------------------------\n",
      "                             Recommended Effort: 25.00% of experiments                              \n",
      "Time-invariant Controls:\n",
      "[1. 1.]\n",
      "####################################################################################################\n"
     ]
    }
   ],
   "source": [
    "designer_1.print_optimal_candidates()"
   ]
  },
  {
   "cell_type": "markdown",
   "metadata": {
    "colab_type": "text",
    "id": "cdx0SRbl3ILz"
   },
   "source": [
    "The method prints various details about the experimental design activity that was solved to obtained the optimal candidates. This is useful for identifying the results. We see that there are four optimal candidates selected out of our original 25 experimental candidates. The D-optimal criterion recommends that we put equal experimental efforts to these four optimal candidates. The optimal candidates are given numbers for identification. Additionally, the time-invariant controls associated with the candidates are also printed. In cases where we have dynamic systems with both time-invariant and time-varying controls, both of these, along with the sampling times will be printed here."
   ]
  },
  {
   "cell_type": "code",
   "execution_count": 13,
   "metadata": {
    "colab": {
     "base_uri": "https://localhost:8080/",
     "height": 297
    },
    "colab_type": "code",
    "id": "Hxx5MDJdXwi9",
    "outputId": "d8e85f17-f7a2-4d63-acf6-90fbcb6e5d7f"
   },
   "outputs": [
    {
     "data": {
      "image/png": "[encoded data removed]",
      "text/plain": [
       "<Figure size 432x288 with 1 Axes>"
      ]
     },
     "metadata": {
      "needs_background": "light"
     },
     "output_type": "display_data"
    }
   ],
   "source": [
    "designer_1.plot_optimal_controls(non_opt_candidates=True)\n",
    "designer_1.show_plots()"
   ]
  },
  {
   "cell_type": "markdown",
   "metadata": {
    "colab_type": "text",
    "id": "krMAR6Yblqxa"
   },
   "source": [
    "For dynamic systems with up to four experimental variables, pydex offers a useful visualization method: \"plot_optimal_controls\". The method generates a scatter plot of the computed experimental design. By default, pydex will not scatter all of the enumerated experimental candidates as it may take a long time, and/or result in a messy figure. But, we pass in \"non_opt_candidates=True\" for our demo. This scatter plots the experimental variables, which showcases the symmetrical structure of the computed experimental design. The radius of the hollow red circles represent the computed optimal efforts associated with each experimental candidate. The larger the effort, the larger the radius. An effort of zero will cause the hollow circles to disappear."
   ]
  }
 ],
 "metadata": {
  "colab": {
   "collapsed_sections": [],
   "include_colab_link": true,
   "name": "pydex_quickstart.ipynb",
   "provenance": []
  },
  "kernelspec": {
   "display_name": "Python 3",
   "language": "python",
   "name": "python3"
  },
  "language_info": {
   "codemirror_mode": {
    "name": "ipython",
    "version": 3
   },
   "file_extension": ".py",
   "mimetype": "text/x-python",
   "name": "python",
   "nbconvert_exporter": "python",
   "pygments_lexer": "ipython3",
   "version": "3.7.1"
  }
 },
 "nbformat": 4,
 "nbformat_minor": 1
}
