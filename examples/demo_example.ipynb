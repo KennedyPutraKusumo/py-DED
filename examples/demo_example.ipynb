{
 "cells": [
  {
   "cell_type": "code",
   "execution_count": 3,
   "metadata": {},
   "outputs": [],
   "source": [
    "from pydex.core.designer import Designer\n",
    "import numpy as np"
   ]
  },
  {
   "cell_type": "code",
   "execution_count": 4,
   "metadata": {},
   "outputs": [
    {
     "name": "stdout",
     "output_type": "stream",
     "text": [
      "[9]\n"
     ]
    }
   ],
   "source": [
    "def simulate(ti_controls, model_parameters):\n",
    "    return np.array([\n",
    "        # constant term\n",
    "        model_parameters[0] +\n",
    "        # linear term\n",
    "        model_parameters[1] * ti_controls[0]                    +\n",
    "        model_parameters[2] * ti_controls[1]\n",
    "    ])\n",
    "\n",
    "y = simulate(\n",
    "    ti_controls=[1, 2],\n",
    "    model_parameters=[1, 2, 3],\n",
    ")\n",
    "print(y)"
   ]
  },
  {
   "cell_type": "code",
   "execution_count": 5,
   "metadata": {},
   "outputs": [],
   "source": [
    "designer_1 = Designer()\n",
    "designer_1.simulate = simulate\n",
    "\n",
    "designer_1.model_parameters = np.ones(3)"
   ]
  },
  {
   "cell_type": "code",
   "execution_count": 6,
   "metadata": {
    "scrolled": true
   },
   "outputs": [
    {
     "name": "stdout",
     "output_type": "stream",
     "text": [
      "[[-1. , -1. ],\n",
      " [-1. , -0.5],\n",
      " [-1. ,  0. ],\n",
      " [-1. ,  0.5],\n",
      " [-1. ,  1. ],\n",
      " [-0.5, -1. ],\n",
      " [-0.5, -0.5],\n",
      " [-0.5,  0. ],\n",
      " [-0.5,  0.5],\n",
      " [-0.5,  1. ],\n",
      " [ 0. , -1. ],\n",
      " [ 0. , -0.5],\n",
      " [ 0. ,  0. ],\n",
      " [ 0. ,  0.5],\n",
      " [ 0. ,  1. ],\n",
      " [ 0.5, -1. ],\n",
      " [ 0.5, -0.5],\n",
      " [ 0.5,  0. ],\n",
      " [ 0.5,  0.5],\n",
      " [ 0.5,  1. ],\n",
      " [ 1. , -1. ],\n",
      " [ 1. , -0.5],\n",
      " [ 1. ,  0. ],\n",
      " [ 1. ,  0.5],\n",
      " [ 1. ,  1. ]]\n"
     ]
    }
   ],
   "source": [
    "tic = designer_1.enumerate_candidates(\n",
    "    bounds=[\n",
    "        [-1, 1],\n",
    "        [-1, 1],\n",
    "    ],\n",
    "    levels=[\n",
    "        5,\n",
    "        5,\n",
    "    ],\n",
    ")  # tic stands for time-invariant control\n",
    "\n",
    "\n",
    "print(np.array2string(tic, separator=\", \"))"
   ]
  },
  {
   "cell_type": "code",
   "execution_count": 9,
   "metadata": {},
   "outputs": [
    {
     "name": "stdout",
     "output_type": "stream",
     "text": [
      "[WARNING]: because the error_cov is not given, Pydex defaults to the identity matrix of size 1x1.\n",
      "====================================================================================================\n",
      "Initialization complete: designer ready.\n",
      "----------------------------------------------------------------------------------------------------\n",
      "Number of model parameters              : 3\n",
      "Number of candidates                    : 25\n",
      "Number of responses                     : 1\n",
      "Number of measured responses            : 1\n",
      "Number of time-invariant controls       : 2\n",
      "Covariance of measured responses        : \n",
      " [[1.]]\n",
      "====================================================================================================\n"
     ]
    },
    {
     "data": {
      "text/plain": [
       "'ready'"
      ]
     },
     "execution_count": 9,
     "metadata": {},
     "output_type": "execute_result"
    }
   ],
   "source": [
    "designer_1.ti_controls_candidates = tic\n",
    "designer_1.initialize(verbose=2)"
   ]
  },
  {
   "cell_type": "code",
   "execution_count": 13,
   "metadata": {},
   "outputs": [
    {
     "data": {
      "text/plain": [
       "(25, 2)"
      ]
     },
     "execution_count": 13,
     "metadata": {},
     "output_type": "execute_result"
    }
   ],
   "source": [
    "designer_1.ti_controls_candidates.shape"
   ]
  },
  {
   "cell_type": "code",
   "execution_count": 15,
   "metadata": {},
   "outputs": [
    {
     "name": "stdout",
     "output_type": "stream",
     "text": [
      "############################### Computing Optimal Experiment Design ################################\n",
      "Started on                              : 2022-08-24 17:18:46.029597\n",
      "Criterion                               : d_opt_criterion\n",
      "Pseudo-bayesian                         : False\n",
      "Dynamic                                 : False\n",
      "Time-invariant Controls                 : True\n",
      "Time-varying Controls                   : False\n",
      "Number of Candidates                    : 25\n",
      "---------------------------------------[Sensitivity Analysis]---------------------------------------\n",
      "Use Finite Difference                   : True\n",
      "Richardson Extrapolation Steps          : 5\n",
      "Normalized by Parameter Values          : True\n",
      "----------------------------------------------------------------------------------------------------\n",
      "[Candidate       3/25]: time elapsed            0.09 seconds.\n",
      "[Candidate       6/25]: time elapsed            0.10 seconds.\n",
      "[Candidate       9/25]: time elapsed            0.11 seconds.\n",
      "[Candidate      12/25]: time elapsed            0.12 seconds.\n",
      "[Candidate      15/25]: time elapsed            0.13 seconds.\n",
      "[Candidate      18/25]: time elapsed            0.14 seconds.\n",
      "[Candidate      21/25]: time elapsed            0.14 seconds.\n",
      "[Candidate      24/25]: time elapsed            0.15 seconds.\n",
      "[Candidate      25/25]: time elapsed            0.16 seconds.\n",
      "----------------------------------------------------------------------------------------------------\n",
      "\n",
      "\n",
      "Problem\n",
      "  Name                   :                 \n",
      "  Objective sense        : min             \n",
      "  Type                   : CONIC (conic optimization problem)\n",
      "  Constraints            : 138             \n",
      "  Cones                  : 3               \n",
      "  Scalar variables       : 70              \n",
      "  Matrix variables       : 2               \n",
      "  Integer variables      : 0               \n",
      "\n",
      "Optimizer started.\n",
      "Problem\n",
      "  Name                   :                 \n",
      "  Objective sense        : min             \n",
      "  Type                   : CONIC (conic optimization problem)\n",
      "  Constraints            : 138             \n",
      "  Cones                  : 3               \n",
      "  Scalar variables       : 70              \n",
      "  Matrix variables       : 2               \n",
      "  Integer variables      : 0               \n",
      "\n",
      "Optimizer  - threads                : 6               \n",
      "Optimizer  - solved problem         : the primal      \n",
      "Optimizer  - Constraints            : 52\n",
      "Optimizer  - Cones                  : 4\n",
      "Optimizer  - Scalar variables       : 45                conic                  : 19              \n",
      "Optimizer  - Semi-definite variables: 2                 scalarized             : 27              \n",
      "Factor     - setup time             : 0.02              dense det. time        : 0.00            \n",
      "Factor     - ML order time          : 0.02              GP order time          : 0.00            \n",
      "Factor     - nonzeros before factor : 892               after factor           : 892             \n",
      "Factor     - dense dim.             : 0                 flops                  : 2.94e+04        \n",
      "ITE PFEAS    DFEAS    GFEAS    PRSTATUS   POBJ              DOBJ              MU       TIME  \n",
      "0   1.3e+00  1.3e+00  5.9e+00  0.00e+00   2.483515197e+00   -2.415306005e+00  1.0e+00  0.06  \n",
      "1   3.1e-01  3.1e-01  9.5e-01  4.30e-01   8.233409944e-01   -6.656171785e-01  2.4e-01  0.09  \n",
      "2   6.9e-02  6.9e-02  9.2e-02  8.51e-01   -2.247947692e-01  -5.799619205e-01  5.4e-02  0.11  \n",
      "3   6.3e-03  6.3e-03  2.1e-03  1.12e+00   4.214858056e-02   1.018931910e-02   4.9e-03  0.11  \n",
      "4   1.7e-04  1.7e-04  9.0e-06  1.02e+00   1.093517972e-03   2.432704851e-04   1.3e-04  0.11  \n",
      "5   6.1e-06  6.1e-06  6.1e-08  1.00e+00   3.050817395e-05   -9.330770510e-08  4.7e-06  0.11  \n",
      "6   3.6e-07  3.6e-07  8.7e-10  1.00e+00   1.512986099e-06   -2.741454818e-07  2.8e-07  0.11  \n",
      "7   9.0e-09  8.7e-09  3.3e-12  1.00e+00   3.390500627e-08   -9.565242613e-09  6.8e-09  0.11  \n",
      "8   2.6e-09  1.2e-09  1.3e-14  1.00e+00   6.300879738e-10   -4.266017048e-10  1.6e-10  0.11  \n",
      "Optimizer terminated. Time: 0.13    \n",
      "\n",
      "\n",
      "Interior-point solution summary\n",
      "  Problem status  : PRIMAL_AND_DUAL_FEASIBLE\n",
      "  Solution status : OPTIMAL\n",
      "  Primal.  obj: 6.3008797375e-10    nrm: 1e+00    Viol.  con: 3e-09    var: 0e+00    barvar: 0e+00    cones: 2e-09  \n",
      "  Dual.    obj: -4.2660186494e-10   nrm: 3e+00    Viol.  con: 0e+00    var: 1e-15    barvar: 1e-09    cones: 0e+00  \n",
      "---------------------------------[Optimization Complete in 0.30 s]----------------------------------\n",
      "Complete: \n",
      " ~ sensitivity analysis took 0.16 CPU seconds.\n",
      " ~ optimization with MOSEK via cvxpy took 0.30 CPU seconds.\n",
      "####################################################################################################\n"
     ]
    },
    {
     "data": {
      "text/plain": [
       "{'solution_time': 0.45359349250793457,\n",
       " 'optimization_time': 0.2958540916442871,\n",
       " 'sensitivity_analysis_time': 0.15773940086364746,\n",
       " 'optimality_criterion': 'd_opt_criterion',\n",
       " 'ti_controls_candidates': array([[-1. , -1. ],\n",
       "        [-1. , -0.5],\n",
       "        [-1. ,  0. ],\n",
       "        [-1. ,  0.5],\n",
       "        [-1. ,  1. ],\n",
       "        [-0.5, -1. ],\n",
       "        [-0.5, -0.5],\n",
       "        [-0.5,  0. ],\n",
       "        [-0.5,  0.5],\n",
       "        [-0.5,  1. ],\n",
       "        [ 0. , -1. ],\n",
       "        [ 0. , -0.5],\n",
       "        [ 0. ,  0. ],\n",
       "        [ 0. ,  0.5],\n",
       "        [ 0. ,  1. ],\n",
       "        [ 0.5, -1. ],\n",
       "        [ 0.5, -0.5],\n",
       "        [ 0.5,  0. ],\n",
       "        [ 0.5,  0.5],\n",
       "        [ 0.5,  1. ],\n",
       "        [ 1. , -1. ],\n",
       "        [ 1. , -0.5],\n",
       "        [ 1. ,  0. ],\n",
       "        [ 1. ,  0.5],\n",
       "        [ 1. ,  1. ]]),\n",
       " 'tv_controls_candidates': array([[-1. ],\n",
       "        [-0.5],\n",
       "        [ 0. ],\n",
       "        [ 0.5],\n",
       "        [ 1. ],\n",
       "        [-1. ],\n",
       "        [-0.5],\n",
       "        [ 0. ],\n",
       "        [ 0.5],\n",
       "        [ 1. ],\n",
       "        [-1. ],\n",
       "        [-0.5],\n",
       "        [ 0. ],\n",
       "        [ 0.5],\n",
       "        [ 1. ],\n",
       "        [-1. ],\n",
       "        [-0.5],\n",
       "        [ 0. ],\n",
       "        [ 0.5],\n",
       "        [ 1. ],\n",
       "        [-1. ],\n",
       "        [-0.5],\n",
       "        [ 0. ],\n",
       "        [ 0.5],\n",
       "        [ 1. ]]),\n",
       " 'model_parameters': array([1., 1., 1.]),\n",
       " 'sampling_times_candidates': array([[-1. ,  0. ],\n",
       "        [-1. ,  0. ],\n",
       "        [-1. ,  0.5],\n",
       "        [-0.5,  0. ],\n",
       "        [-1. ,  1. ],\n",
       "        [ 0. ,  0.5],\n",
       "        [-1. , -1. ],\n",
       "        [ 0.5,  0.5],\n",
       "        [-1. , -0.5],\n",
       "        [ 1. ,  0.5],\n",
       "        [-0.5,  0. ],\n",
       "        [-1. ,  0.5],\n",
       "        [-0.5,  0.5],\n",
       "        [-0.5,  0.5],\n",
       "        [-0.5,  1. ],\n",
       "        [ 0. ,  1. ],\n",
       "        [-0.5, -1. ],\n",
       "        [ 0.5,  1. ],\n",
       "        [-0.5, -0.5],\n",
       "        [ 1. ,  1. ],\n",
       "        [ 0. ,  0. ],\n",
       "        [-1. ,  1. ],\n",
       "        [ 0. ,  0.5],\n",
       "        [-0.5,  1. ],\n",
       "        [ 0. ,  1. ]]),\n",
       " 'optimal_efforts': array([[2.49999999e-01],\n",
       "        [3.42121031e-10],\n",
       "        [1.29720116e-10],\n",
       "        [3.42121031e-10],\n",
       "        [2.49999999e-01],\n",
       "        [3.42121122e-10],\n",
       "        [0.00000000e+00],\n",
       "        [0.00000000e+00],\n",
       "        [0.00000000e+00],\n",
       "        [3.42121122e-10],\n",
       "        [1.29720171e-10],\n",
       "        [0.00000000e+00],\n",
       "        [0.00000000e+00],\n",
       "        [0.00000000e+00],\n",
       "        [1.29720171e-10],\n",
       "        [3.42121122e-10],\n",
       "        [0.00000000e+00],\n",
       "        [0.00000000e+00],\n",
       "        [0.00000000e+00],\n",
       "        [3.42121122e-10],\n",
       "        [2.49999999e-01],\n",
       "        [3.42121031e-10],\n",
       "        [1.29720116e-10],\n",
       "        [3.42121031e-10],\n",
       "        [2.49999999e-01]]),\n",
       " 'criterion_value': -6.300879737501779e-10,\n",
       " 'optimization_package': 'cvxpy',\n",
       " 'optimizer': 'MOSEK',\n",
       " 'pseudo_bayesian': False,\n",
       " 'pseudo_bayesian_type': None,\n",
       " 'optimize_sampling_times': False,\n",
       " 'regularized': False,\n",
       " 'n_spt_spec': 1}"
      ]
     },
     "execution_count": 15,
     "metadata": {},
     "output_type": "execute_result"
    }
   ],
   "source": [
    "designer_1.design_experiment(\n",
    "    designer_1.d_opt_criterion,\n",
    ")"
   ]
  },
  {
   "cell_type": "code",
   "execution_count": null,
   "metadata": {},
   "outputs": [],
   "source": []
  }
 ],
 "metadata": {
  "kernelspec": {
   "display_name": "Python 3",
   "language": "python",
   "name": "python3"
  },
  "language_info": {
   "codemirror_mode": {
    "name": "ipython",
    "version": 3
   },
   "file_extension": ".py",
   "mimetype": "text/x-python",
   "name": "python",
   "nbconvert_exporter": "python",
   "pygments_lexer": "ipython3",
   "version": "3.7.1"
  }
 },
 "nbformat": 4,
 "nbformat_minor": 4
}
